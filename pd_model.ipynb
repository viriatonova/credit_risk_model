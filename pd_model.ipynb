{
 "cells": [
  {
   "cell_type": "markdown",
   "id": "6fb2bdde",
   "metadata": {},
   "source": [
    "# PD Model"
   ]
  },
  {
   "cell_type": "code",
   "execution_count": null,
   "id": "6cfc33f6",
   "metadata": {},
   "outputs": [],
   "source": [
    "import pandas as pd\n",
    "import numpy as np"
   ]
  },
  {
   "cell_type": "markdown",
   "id": "87efe05c",
   "metadata": {},
   "source": [
    "## Criando tabela base"
   ]
  },
  {
   "cell_type": "code",
   "execution_count": null,
   "id": "42aa8893",
   "metadata": {},
   "outputs": [],
   "source": [
    "train_base = 'data/csv_files/train/train_base.csv'\n",
    "train_static_0_0 ='data/csv_files/train/train_static_0_0.csv'\n",
    "train_static_cb_0 = 'data/csv_files/train/train_static_cb_0.csv'\n",
    "\n",
    "\n",
    "cls_cnt = 'cntpmts24_3658933L'\n",
    "df_base_class_cmt = pd.read_csv(train_static_0_0, usecols=['case_id', cls_cnt])\n",
    "df_base_class_cmt[f'{cls_cnt}:missing'] = np.where((df_base_class_cmt[cls_cnt].isnull()), 1, 0)\n",
    "df_base_class_cmt[f'{cls_cnt}:0-3'] = np.where((df_base_class_cmt[cls_cnt] >= 0) & (df_base_class_cmt[cls_cnt] <= 3), 1, 0)\n",
    "df_base_class_cmt[f'{cls_cnt}:3-5'] = np.where((df_base_class_cmt[cls_cnt] >= 3) & (df_base_class_cmt[cls_cnt] <= 5), 1, 0)\n",
    "df_base_class_cmt[f'{cls_cnt}:5-8'] = np.where((df_base_class_cmt[cls_cnt] >= 5) & (df_base_class_cmt[cls_cnt] <= 8), 1, 0)\n",
    "df_base_class_cmt[f'{cls_cnt}:8-11'] = np.where((df_base_class_cmt[cls_cnt] >= 8) & (df_base_class_cmt[cls_cnt] <= 11), 1, 0)\n",
    "df_base_class_cmt[f'{cls_cnt}:11-13'] = np.where((df_base_class_cmt[cls_cnt] >= 11) & (df_base_class_cmt[cls_cnt] <= 13), 1, 0)\n",
    "df_base_class_cmt[f'{cls_cnt}:13-17'] = np.where((df_base_class_cmt[cls_cnt] >= 13) & (df_base_class_cmt[cls_cnt] <= 17), 1, 0)\n",
    "df_base_class_cmt[f'{cls_cnt}:17-22'] = np.where((df_base_class_cmt[cls_cnt] >= 17) & (df_base_class_cmt[cls_cnt] <= 22), 1, 0)\n",
    "df_base_class_cmt[f'{cls_cnt}:22-25'] = np.where((df_base_class_cmt[cls_cnt] >= 22) & (df_base_class_cmt[cls_cnt] <= 25), 1, 0)\n",
    "\n",
    "cls_amt = 'amtinstpaidbefduel24m_4187115A'\n",
    "df_base_class_amt = pd.read_csv(train_static_0_0, usecols=['case_id', cls_amt])\n",
    "df_base_class_cmt[f'{cls_amt}:missing'] = np.where((df_base_class_cmt[cls_amt].isnull()), 1, 0)\n",
    "df_base_class_cmt[f'{cls_amt}:0-3249'] = np.where((df_base_class_cmt[cls_amt] >= 0) & (df_base_class_cmt[cls_amt] <= 3249), 1, 0)\n",
    "df_base_class_cmt[f'{cls_amt}:3249-12413'] = np.where((df_base_class_cmt[cls_amt] >= 3249) & (df_base_class_cmt[cls_amt] <= 12413), 1, 0)\n",
    "df_base_class_cmt[f'{cls_amt}:12413-23746'] = np.where((df_base_class_cmt[cls_amt] >= 12413) & (df_base_class_cmt[cls_amt] <= 23746), 1, 0)\n",
    "df_base_class_cmt[f'{cls_amt}:23746-39755'] = np.where((df_base_class_cmt[cls_amt] >= 23746) & (df_base_class_cmt[cls_amt] <= 39755), 1, 0)\n",
    "df_base_class_cmt[f'{cls_amt}:39755-64963'] = np.where((df_base_class_cmt[cls_amt] >= 39755) & (df_base_class_cmt[cls_amt] <= 64963), 1, 0)\n",
    "df_base_class_cmt[f'{cls_amt}:64963-114201'] = np.where((df_base_class_cmt[cls_amt] >= 64963) & (df_base_class_cmt[cls_amt] <= 114201), 1, 0)\n",
    "df_base_class_cmt[f'{cls_amt}:114201-992476'] = np.where((df_base_class_cmt[cls_amt] >= 114201) & (df_base_class_cmt[cls_amt] <= 992476), 1, 0)\n",
    "\n",
    "cls_max = 'maxdpdlast12m_727P'\n",
    "df_base_class_max = pd.read_csv(train_static_0_0, usecols=['case_id', cls_max])\n",
    "df_base_class_max[f'{cls_max}:missing'] = np.where((df_base_class_max[cls_max].isnull()), 1, 0)\n",
    "df_base_class_max[f'{cls_max}:0-1'] = np.where((df_base_class_max[cls_max] >= 0) & (df_base_class_max[cls_max] <= 1), 1, 0)\n",
    "df_base_class_max[f'{cls_max}:1-2'] = np.where((df_base_class_max[cls_max] >= 1) & (df_base_class_max[cls_max] <= 2), 1, 0)\n",
    "df_base_class_max[f'{cls_max}:2-4'] = np.where((df_base_class_max[cls_max] >= 2) & (df_base_class_max[cls_max] <= 4), 1, 0)\n",
    "df_base_class_max[f'{cls_max}:4-11'] = np.where((df_base_class_max[cls_max] >= 4) & (df_base_class_max[cls_max] <= 11), 1, 0)\n",
    "df_base_class_max[f'{cls_max}:11-4430'] = np.where((df_base_class_max[cls_max] >= 11) & (df_base_class_max[cls_max] <= 4430), 1, 0)"
   ]
  }
 ],
 "metadata": {
  "kernelspec": {
   "display_name": ".venv",
   "language": "python",
   "name": "python3"
  },
  "language_info": {
   "name": "python",
   "version": "3.13.0"
  }
 },
 "nbformat": 4,
 "nbformat_minor": 5
}
