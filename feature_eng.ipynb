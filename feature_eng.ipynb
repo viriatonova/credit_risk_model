{
 "cells": [
  {
   "cell_type": "code",
   "execution_count": null,
   "id": "eeacf51d",
   "metadata": {},
   "outputs": [],
   "source": [
    "import pandas as pd\n",
    "import numpy as np\n",
    "\n",
    "from lib.feature_eng import find_class_columns, create_pivot_table, create_iv_pivot_table_with_binning, calculate_woe_iv\n",
    "from lib.charts_config import plot_woe_iv"
   ]
  },
  {
   "cell_type": "markdown",
   "id": "aa0e17f0",
   "metadata": {},
   "source": [
    "## Extraição de dados usando Kaggle CLI\n"
   ]
  },
  {
   "cell_type": "code",
   "execution_count": null,
   "id": "62dda8d8",
   "metadata": {},
   "outputs": [],
   "source": [
    "%%bash\n",
    "mkdir -p data && \\\n",
    "cd data && \\ \n",
    "kaggle competitions download -c home-credit-credit-risk-model-stability && \\\n",
    "unzip home-credit-credit-risk-model-stability.zip && \\\n",
    "rm -rf parquet_files \\"
   ]
  },
  {
   "cell_type": "markdown",
   "id": "4ae6cfb9",
   "metadata": {},
   "source": [
    "## Seleção de arquivos relacionados com as classes escolhidas"
   ]
  },
  {
   "cell_type": "code",
   "execution_count": 35,
   "id": "af35316a",
   "metadata": {},
   "outputs": [
    {
     "name": "stdout",
     "output_type": "stream",
     "text": [
      "depth_0 = {'train_static_0_0': {'downpmt_116A', 'amtinstpaidbefduel24m_4187115A', 'cntpmts24_3658933L', 'currdebtcredtyperange_828A', 'currdebt_22A', 'maxdpdlast12m_727P'}, 'train_static_0_1': {'downpmt_116A', 'amtinstpaidbefduel24m_4187115A', 'cntpmts24_3658933L', 'currdebtcredtyperange_828A', 'currdebt_22A', 'maxdpdlast12m_727P'}, 'train_static_cb_0': {'for3years_128L', 'days360_512L', 'education_88M'}}\n",
      "depth_1 = {'train_applprev_1_0': {'credacc_minhisbal_90A', 'downpmt_134A', 'credacc_maxhisbal_375A', 'credacc_actualbalance_314A'}, 'train_applprev_1_1': {'credacc_minhisbal_90A', 'downpmt_134A', 'credacc_maxhisbal_375A', 'credacc_actualbalance_314A'}, 'train_other_1': {'amtdepositincoming_4809444A', 'amtdepositbalance_4809441A', 'amtdepositoutgoing_4809442A'}, 'train_credit_bureau_a_1_0': {'contractsum_5085717L'}, 'train_credit_bureau_a_1_1': {'contractsum_5085717L'}, 'train_credit_bureau_a_1_2': {'contractsum_5085717L'}, 'train_credit_bureau_a_1_3': {'contractsum_5085717L'}, 'train_deposit_1': {'amount_416A'}, 'train_person_1': {'birthdate_87D', 'gender_992L'}}\n",
      "depth_2 = {}\n"
     ]
    }
   ],
   "source": [
    "train_depth_0 = ['train_static_0_0', 'train_static_0_1','train_static_cb_0']\n",
    "train_depth_1 = [\n",
    "  'train_applprev_1_0', 'train_applprev_1_1','train_other_1', 'train_tax_registry_a_1', \n",
    "  'train_tax_registry_b_1', 'train_tax_registry_c_1', 'train_credit_bureau_a_1_0', \n",
    "  'train_credit_bureau_a_1_1', 'train_credit_bureau_a_1_2', 'train_credit_bureau_a_1_3', \n",
    "  'train_credit_bureau_b_1', 'train_deposit_1', 'train_person_1', 'train_debitcard_1',\n",
    "]\n",
    "train_depth_2 = [\n",
    "  'train_applprev_2', 'train_person_2', 'train_credit_bureau_a_2_0', 'train_credit_bureau_a_2_1',\n",
    "  'train_credit_bureau_a_2_2', 'train_credit_bureau_a_2_3', 'train_credit_bureau_a_2_4',\n",
    "  'train_credit_bureau_a_2_5', 'train_credit_bureau_a_2_6', 'train_credit_bureau_a_2_7',\n",
    "  'train_credit_bureau_a_2_8', 'train_credit_bureau_a_2_9', 'train_credit_bureau_a_2_10',\n",
    "  'train_credit_bureau_b_2',\n",
    "]\n",
    "\n",
    "classes_list = [\n",
    "  'amount_416A', 'amtdepositbalance_4809441A','amtdepositincoming_4809444A', 'amtdepositoutgoing_4809442A',\n",
    "  'amtinstpaidbefduel24m_4187115A', 'days360_512L','maxdpdlast12m_727P',\n",
    "  'birthdate_87D', 'cntpmts24_3658933L', 'credacc_actualbalance_314A','credacc_maxhisbal_375A', 'credacc_minhisbal_90A',\n",
    "  'currdebt_22A', 'currdebtcredtyperange_828A', 'contractsum_5085717L', 'downpmt_116A', 'education_88M',\n",
    "  'for3years_128L', 'gender_992L', 'downpmt_134A'\n",
    "]\n",
    "\n",
    "depth_0_occurrences = find_class_columns(feature_cols=classes_list, file_list=train_depth_0)\n",
    "depth_1_occurrences = find_class_columns(feature_cols=classes_list, file_list=train_depth_1)\n",
    "depth_2_occurrences = find_class_columns(feature_cols=classes_list, file_list=train_depth_2)\n",
    "\n",
    "# Dicionarios com arquivos e suas respectivas colunas (classes)\n",
    "print(f'depth_0 = {depth_0_occurrences}') \n",
    "print(f'depth_1 = {depth_1_occurrences}')\n",
    "print(f'depth_2 = {depth_2_occurrences}')"
   ]
  },
  {
   "cell_type": "markdown",
   "id": "3fdbfd61",
   "metadata": {},
   "source": [
    "## Pré-processamento dos dados selecionados"
   ]
  },
  {
   "cell_type": "code",
   "execution_count": null,
   "id": "46cb697b",
   "metadata": {},
   "outputs": [],
   "source": [
    "df_base_info = pd.read_csv('data/csv_files/train/train_base.csv', usecols=['case_id', 'target'])\n",
    "df_static_0_0 ='data/csv_files/train/train_static_0_0.csv'\n",
    "df_static_0_1 ='data/csv_files/train/train_static_0_1.csv'\n",
    "df_static_cb_0 = 'data/csv_files/train/train_static_cb_0.csv'\n",
    "\n",
    "df = pd.read_csv(df_static_cb_0)\n",
    "df"
   ]
  },
  {
   "cell_type": "markdown",
   "id": "41168b5d",
   "metadata": {},
   "source": [
    "### Variável : `cntpmts24_3658933L`\n",
    "\n",
    "Descrição : Quantidade de meses com qualquer recebimento (renda)\n",
    "\n",
    "Classe IV : 0.0089"
   ]
  },
  {
   "cell_type": "code",
   "execution_count": null,
   "id": "c8d8cdb1",
   "metadata": {},
   "outputs": [],
   "source": [
    "# Create pivot table\n",
    "cls = 'cntpmts24_3658933L'\n",
    "df_base_cnt = create_pivot_table(df_base_info, df_static_0_0, cls)\n",
    "\n",
    "# Using classes in range <12, 12-20 and >20\n",
    "df_base_cnt['range'] = pd.cut(df_base_cnt.index, \n",
    "                     bins=[-float('inf'), 12, 20, float('inf')],\n",
    "                     labels=['<12', '12-20', '>20'])\n",
    "\n",
    "# Group by the ranges and sum the counts\n",
    "df_class = df_base_cnt.groupby('range').agg({0: 'sum', 1: 'sum'})\n",
    "\n",
    "# Rename columns for clarity\n",
    "df_class.columns = ['non_default', 'default']\n",
    "\n",
    "# Calculate total observations\n",
    "df_class['total_obs'] = df_class['non_default'] + df_class['default']\n",
    "\n",
    "# Calculate percentages\n",
    "total_defaults = df_class['default'].sum()\n",
    "total_non_defaults = df_class['non_default'].sum()\n",
    "\n",
    "df_class['pct_events'] = df_class['default'] / total_defaults\n",
    "df_class['pct_non_events'] = df_class['non_default'] / total_non_defaults\n",
    "\n",
    "# Calculate WOE and IV\n",
    "df_class['woe'] = np.log(df_class['pct_non_events'] / df_class['pct_events'])\n",
    "df_class['iv'] = (df_class['pct_non_events'] - df_class['pct_events']) * df_class['woe']\n",
    "\n",
    "print(df_class[\"iv\"].sum())\n",
    "df_class"
   ]
  },
  {
   "cell_type": "markdown",
   "id": "9b98e001",
   "metadata": {},
   "source": [
    "### Variável : `amtinstpaidbefduel24m_4187115A`\n",
    "\n",
    "Descrição : Número de parcelas pagas antes do vencimento nos últimos 24 meses\n",
    "\n",
    "Classe IV : 0,031"
   ]
  },
  {
   "cell_type": "code",
   "execution_count": null,
   "id": "b4aa101d",
   "metadata": {},
   "outputs": [],
   "source": [
    "# Create pivot table\n",
    "cls = 'amtinstpaidbefduel24m_4187115A'\n",
    "df_class_amt = create_iv_pivot_table_with_binning(df_base_info, df_static_0_0, cls, num_bins=40)\n",
    "\n",
    "print(df_class_amt[\"iv\"].sum())\n",
    "\n",
    "df_class_amt"
   ]
  },
  {
   "cell_type": "code",
   "execution_count": null,
   "id": "3e9f1430",
   "metadata": {},
   "outputs": [],
   "source": [
    "# Data Vizualization\n",
    "plot_woe_iv(df_class_amt, cls, rotation_X=90)"
   ]
  },
  {
   "cell_type": "markdown",
   "id": "88037d31",
   "metadata": {},
   "source": [
    "### Variável : `currdebt_22A`\n",
    "\n",
    "Descrição : Atual total de debido do cliente \n",
    "\n",
    "Classe IV : 0,002"
   ]
  },
  {
   "cell_type": "code",
   "execution_count": null,
   "id": "728fbabb",
   "metadata": {},
   "outputs": [],
   "source": [
    "cls = 'currdebt_22A'\n",
    "# df_class_curr = create_pivot_table(df_base_info, df_static_0_0, cls, )\n",
    "df_class_curr = create_iv_pivot_table_with_binning(df_base_info, df_static_0_0, cls, num_bins=20)\n",
    "\n",
    "print(df_class_curr[\"iv\"].sum())\n",
    "\n",
    "df_class_curr"
   ]
  },
  {
   "cell_type": "code",
   "execution_count": null,
   "id": "3611ce5e",
   "metadata": {},
   "outputs": [],
   "source": [
    "# Data Vizualization\n",
    "plot_woe_iv(df_class_curr, cls, rotation_X=90)"
   ]
  },
  {
   "cell_type": "markdown",
   "id": "c3d42c62",
   "metadata": {},
   "source": [
    "### Variável : `maxdpdlast12m_727P`\n",
    "\n",
    "Descrição : Valor total de outros contratos\n",
    "\n",
    "Classe IV : 0,12"
   ]
  },
  {
   "cell_type": "code",
   "execution_count": null,
   "id": "74166443",
   "metadata": {},
   "outputs": [],
   "source": [
    "cls = 'maxdpdlast12m_727P'\n",
    "# df_class_max_dpd_year = create_pivot_table(df_base_info, df_static_0_0, cls, )\n",
    "df_class_max_dpd_year = create_iv_pivot_table_with_binning(df_base_info, df_static_0_0, cls, num_bins=2000)\n",
    "\n",
    "print(df_class_max_dpd_year[\"iv\"].sum())\n",
    "\n",
    "df_class_max_dpd_year"
   ]
  },
  {
   "cell_type": "code",
   "execution_count": null,
   "id": "0868d984",
   "metadata": {},
   "outputs": [],
   "source": [
    "# Data Vizualization\n",
    "plot_woe_iv(df_class_max_dpd_year, cls, rotation_X=90)"
   ]
  },
  {
   "cell_type": "markdown",
   "id": "1a652519",
   "metadata": {},
   "source": [
    "### Variável : `education_88M`\n",
    "\n",
    "Descrição : Nivel educacional\n",
    "\n",
    "Classe IV : 0,003"
   ]
  },
  {
   "cell_type": "code",
   "execution_count": null,
   "id": "c64d1f22",
   "metadata": {},
   "outputs": [],
   "source": [
    "cls = 'education_88M'\n",
    "df_class_education = create_pivot_table(df_base_info, df_static_cb_0, cls)\n",
    "df_class_edication['ta']\n",
    "df_education_iv = calculate_woe_iv(df_class_education)\n",
    "df\n",
    "\n",
    "print(df_education_iv[\"iv\"].sum())\n",
    "\n",
    "df_education_iv"
   ]
  },
  {
   "cell_type": "markdown",
   "id": "1f9a0229",
   "metadata": {},
   "source": [
    "### Variável : `contractssum_5085716L`\n",
    "\n",
    "Descrição : Soma total de valores de contratos recuperados de bureau de crédito externo\n",
    "\n",
    "Classe IV : 0,021"
   ]
  },
  {
   "cell_type": "code",
   "execution_count": null,
   "id": "f3c8d1df",
   "metadata": {},
   "outputs": [],
   "source": [
    "cls = 'contractssum_5085716L'\n",
    "df_class_retrieved_contracts = create_iv_pivot_table_with_binning(df_base_info, df_static_cb_0, cls, num_bins=2000)\n",
    "\n",
    "print(df_class_retrieved_contracts[\"iv\"].sum())\n",
    "\n",
    "df_class_retrieved_contracts"
   ]
  },
  {
   "cell_type": "code",
   "execution_count": null,
   "id": "a584c98e",
   "metadata": {},
   "outputs": [],
   "source": [
    "# Data Vizualization\n",
    "plot_woe_iv(df_class_retrieved_contracts, cls, rotation_X=90)"
   ]
  },
  {
   "cell_type": "markdown",
   "id": "c74325c5",
   "metadata": {},
   "source": [
    "### Variável : `downpmt_116A`\n",
    "\n",
    "Descrição : Valor da entrada\n",
    "\n",
    "Classe IV : 0,0067"
   ]
  },
  {
   "cell_type": "code",
   "execution_count": null,
   "id": "cc0bd3ed",
   "metadata": {},
   "outputs": [],
   "source": [
    "cls = 'downpmt_116A'\n",
    "df_class_downpay = create_iv_pivot_table_with_binning(df_base_info, df_static_0_0, cls, num_bins=2000)\n",
    "\n",
    "print(df_class_downpay[\"iv\"].sum())\n",
    "\n",
    "df_class_downpay"
   ]
  },
  {
   "cell_type": "code",
   "execution_count": null,
   "id": "374de48d",
   "metadata": {},
   "outputs": [],
   "source": [
    "# Data Vizualization\n",
    "plot_woe_iv(df_class_downpay, cls, rotation_X=90)"
   ]
  }
 ],
 "metadata": {
  "kernelspec": {
   "display_name": ".venv",
   "language": "python",
   "name": "python3"
  },
  "language_info": {
   "codemirror_mode": {
    "name": "ipython",
    "version": 3
   },
   "file_extension": ".py",
   "mimetype": "text/x-python",
   "name": "python",
   "nbconvert_exporter": "python",
   "pygments_lexer": "ipython3",
   "version": "3.13.5"
  }
 },
 "nbformat": 4,
 "nbformat_minor": 5
}
