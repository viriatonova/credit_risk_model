{
 "cells": [
  {
   "cell_type": "code",
   "execution_count": null,
   "id": "eeacf51d",
   "metadata": {},
   "outputs": [],
   "source": [
    "import pandas as pd\n",
    "import numpy as np\n",
    "\n",
    "from lib.feature_eng import find_class_columns, create_iv_pivot_table_with_binning\n",
    "from lib.charts_config import plot_woe_iv"
   ]
  },
  {
   "cell_type": "markdown",
   "id": "aa0e17f0",
   "metadata": {},
   "source": [
    "## Extraição de dados usando Kaggle CLI\n"
   ]
  },
  {
   "cell_type": "code",
   "execution_count": null,
   "id": "62dda8d8",
   "metadata": {},
   "outputs": [],
   "source": [
    "%%bash\n",
    "mkdir -p data && \\\n",
    "cd data && \\ \n",
    "kaggle competitions download -c home-credit-credit-risk-model-stability && \\\n",
    "unzip home-credit-credit-risk-model-stability.zip && \\\n",
    "rm -rf parquet_files \\"
   ]
  },
  {
   "cell_type": "markdown",
   "id": "4ae6cfb9",
   "metadata": {},
   "source": [
    "## Seleção de arquivos relacionados com as classes escolhidas"
   ]
  },
  {
   "cell_type": "code",
   "execution_count": null,
   "id": "af35316a",
   "metadata": {},
   "outputs": [],
   "source": [
    "train_depth_0 = ['train_static_0_0', 'train_static_0_1','train_static_cb_0']\n",
    "train_depth_1 = [\n",
    "  'train_applprev_1_0', 'train_applprev_1_1','train_other_1', 'train_tax_registry_a_1', \n",
    "  'train_tax_registry_b_1', 'train_tax_registry_c_1', 'train_credit_bureau_a_1_0', \n",
    "  'train_credit_bureau_a_1_1', 'train_credit_bureau_a_1_2', 'train_credit_bureau_a_1_3', \n",
    "  'train_credit_bureau_b_1', 'train_deposit_1', 'train_person_1', 'train_debitcard_1',\n",
    "]\n",
    "train_depth_2 = [\n",
    "  'train_applprev_2', 'train_person_2', 'train_credit_bureau_a_2_0', 'train_credit_bureau_a_2_1',\n",
    "  'train_credit_bureau_a_2_2', 'train_credit_bureau_a_2_3', 'train_credit_bureau_a_2_4',\n",
    "  'train_credit_bureau_a_2_5', 'train_credit_bureau_a_2_6', 'train_credit_bureau_a_2_7',\n",
    "  'train_credit_bureau_a_2_8', 'train_credit_bureau_a_2_9', 'train_credit_bureau_a_2_10',\n",
    "  'train_credit_bureau_b_2',\n",
    "]\n",
    "\n",
    "classes_list = [\n",
    "  'amount_416A', 'amtdepositbalance_4809441A','amtdepositincoming_4809444A', 'amtdepositoutgoing_4809442A',\n",
    "  'amtinstpaidbefduel24m_4187115A', 'days360_512L','maxdpdlast12m_727P',\n",
    "  'birthdate_87D', 'cntpmts24_3658933L', 'credacc_actualbalance_314A','credacc_maxhisbal_375A', 'credacc_minhisbal_90A',\n",
    "  'currdebt_22A', 'currdebtcredtyperange_828A', 'contractsum_5085717L', 'downpmt_116A', 'education_88M',\n",
    "  'for3years_128L', 'gender_992L', 'downpmt_134A'\n",
    "]\n",
    "\n",
    "depth_0_occurrences = find_class_columns(feature_cols=classes_list, file_list=train_depth_0)\n",
    "depth_1_occurrences = find_class_columns(feature_cols=classes_list, file_list=train_depth_1)\n",
    "depth_2_occurrences = find_class_columns(feature_cols=classes_list, file_list=train_depth_2)\n",
    "\n",
    "# Dicionarios com arquivos e suas respectivas colunas (classes)\n",
    "print(f'depth_0 = {depth_0_occurrences}') \n",
    "print(f'depth_1 = {depth_1_occurrences}')\n",
    "print(f'depth_2 = {depth_2_occurrences}')"
   ]
  },
  {
   "cell_type": "markdown",
   "id": "3fdbfd61",
   "metadata": {},
   "source": [
    "## Pré-processamento dos dados selecionados"
   ]
  },
  {
   "cell_type": "code",
   "execution_count": null,
   "id": "46cb697b",
   "metadata": {},
   "outputs": [],
   "source": [
    "df_base_info = pd.read_csv('data/csv_files/train/train_base.csv', usecols=['case_id', 'target'])\n",
    "df_static_0_0 ='data/csv_files/train/train_static_0_0.csv'\n",
    "df_static_0_1 ='data/csv_files/train/train_static_0_1.csv'\n",
    "df_static_cb_0 = 'data/csv_files/train/train_static_cb_0.csv'\n",
    "\n",
    "# df = pd.read_csv(df_static_0_0)\n",
    "# df\n",
    "# df_base_info"
   ]
  },
  {
   "cell_type": "markdown",
   "id": "41168b5d",
   "metadata": {},
   "source": [
    "### Variável : `cntpmts24_3658933L`\n",
    "\n",
    "Descrição : Quantidade de meses com qualquer recebimento (renda)\n",
    "\n",
    "Classe IV : 0.013"
   ]
  },
  {
   "cell_type": "code",
   "execution_count": null,
   "id": "c8d8cdb1",
   "metadata": {},
   "outputs": [],
   "source": [
    "cls = 'cntpmts24_3658933L'\n",
    "\n",
    "df_class_cmt = create_iv_pivot_table_with_binning(df_base_info, df_static_0_0, cls, num_bins=20)\n",
    "print(df_class_cmt[\"iv\"].sum())\n",
    "df_class_cmt  "
   ]
  },
  {
   "cell_type": "code",
   "execution_count": null,
   "id": "70a3ec48",
   "metadata": {},
   "outputs": [],
   "source": [
    "# Data Vizualization\n",
    "plot_woe_iv(df_class_cmt, cls, rotation_X=90)"
   ]
  },
  {
   "cell_type": "markdown",
   "id": "9b98e001",
   "metadata": {},
   "source": [
    "### Variável : `amtinstpaidbefduel24m_4187115A`\n",
    "\n",
    "Descrição : Número de parcelas pagas antes do vencimento nos últimos 24 meses\n",
    "\n",
    "Classe IV : 0,031"
   ]
  },
  {
   "cell_type": "code",
   "execution_count": 22,
   "id": "b4aa101d",
   "metadata": {},
   "outputs": [
    {
     "name": "stderr",
     "output_type": "stream",
     "text": [
      "/home/viriato/Documents/repos/credit_risk_model/lib/feature_eng.py:113: FutureWarning: The default of observed=False is deprecated and will be changed to True in a future version of pandas. Pass observed=False to retain current behavior or observed=True to adopt the future default and silence this warning.\n",
      "  df_merged.groupby(f\"{cls}_binned\")[\"target\"]\n"
     ]
    },
    {
     "name": "stdout",
     "output_type": "stream",
     "text": [
      "0.0310518657179662\n"
     ]
    },
    {
     "data": {
      "text/html": [
       "<div>\n",
       "<style scoped>\n",
       "    .dataframe tbody tr th:only-of-type {\n",
       "        vertical-align: middle;\n",
       "    }\n",
       "\n",
       "    .dataframe tbody tr th {\n",
       "        vertical-align: top;\n",
       "    }\n",
       "\n",
       "    .dataframe thead th {\n",
       "        text-align: right;\n",
       "    }\n",
       "</style>\n",
       "<table border=\"1\" class=\"dataframe\">\n",
       "  <thead>\n",
       "    <tr style=\"text-align: right;\">\n",
       "      <th>target</th>\n",
       "      <th>Bin_Range</th>\n",
       "      <th>Non_Default</th>\n",
       "      <th>Default</th>\n",
       "      <th>non_events</th>\n",
       "      <th>events</th>\n",
       "      <th>woe</th>\n",
       "      <th>iv</th>\n",
       "    </tr>\n",
       "  </thead>\n",
       "  <tbody>\n",
       "    <tr>\n",
       "      <th>0</th>\n",
       "      <td>0-3249</td>\n",
       "      <td>1034080</td>\n",
       "      <td>34584</td>\n",
       "      <td>0.699334</td>\n",
       "      <td>0.720590</td>\n",
       "      <td>-0.029943</td>\n",
       "      <td>0.000636</td>\n",
       "    </tr>\n",
       "    <tr>\n",
       "      <th>1</th>\n",
       "      <td>3249-12413</td>\n",
       "      <td>72838</td>\n",
       "      <td>3493</td>\n",
       "      <td>0.049259</td>\n",
       "      <td>0.072780</td>\n",
       "      <td>-0.390342</td>\n",
       "      <td>0.009181</td>\n",
       "    </tr>\n",
       "    <tr>\n",
       "      <th>2</th>\n",
       "      <td>12413-23746</td>\n",
       "      <td>73641</td>\n",
       "      <td>2691</td>\n",
       "      <td>0.049802</td>\n",
       "      <td>0.056070</td>\n",
       "      <td>-0.118530</td>\n",
       "      <td>0.000743</td>\n",
       "    </tr>\n",
       "    <tr>\n",
       "      <th>3</th>\n",
       "      <td>23746-39755</td>\n",
       "      <td>74111</td>\n",
       "      <td>2222</td>\n",
       "      <td>0.050120</td>\n",
       "      <td>0.046297</td>\n",
       "      <td>0.079337</td>\n",
       "      <td>0.000303</td>\n",
       "    </tr>\n",
       "    <tr>\n",
       "      <th>4</th>\n",
       "      <td>39755-64963</td>\n",
       "      <td>74423</td>\n",
       "      <td>1910</td>\n",
       "      <td>0.050331</td>\n",
       "      <td>0.039797</td>\n",
       "      <td>0.234843</td>\n",
       "      <td>0.002474</td>\n",
       "    </tr>\n",
       "    <tr>\n",
       "      <th>5</th>\n",
       "      <td>64963-114201</td>\n",
       "      <td>74605</td>\n",
       "      <td>1728</td>\n",
       "      <td>0.050454</td>\n",
       "      <td>0.036005</td>\n",
       "      <td>0.337424</td>\n",
       "      <td>0.004876</td>\n",
       "    </tr>\n",
       "    <tr>\n",
       "      <th>6</th>\n",
       "      <td>114201-992476</td>\n",
       "      <td>74967</td>\n",
       "      <td>1366</td>\n",
       "      <td>0.050699</td>\n",
       "      <td>0.028462</td>\n",
       "      <td>0.577342</td>\n",
       "      <td>0.012838</td>\n",
       "    </tr>\n",
       "  </tbody>\n",
       "</table>\n",
       "</div>"
      ],
      "text/plain": [
       "target      Bin_Range  Non_Default  Default  non_events    events       woe  \\\n",
       "0              0-3249      1034080    34584    0.699334  0.720590 -0.029943   \n",
       "1          3249-12413        72838     3493    0.049259  0.072780 -0.390342   \n",
       "2         12413-23746        73641     2691    0.049802  0.056070 -0.118530   \n",
       "3         23746-39755        74111     2222    0.050120  0.046297  0.079337   \n",
       "4         39755-64963        74423     1910    0.050331  0.039797  0.234843   \n",
       "5        64963-114201        74605     1728    0.050454  0.036005  0.337424   \n",
       "6       114201-992476        74967     1366    0.050699  0.028462  0.577342   \n",
       "\n",
       "target        iv  \n",
       "0       0.000636  \n",
       "1       0.009181  \n",
       "2       0.000743  \n",
       "3       0.000303  \n",
       "4       0.002474  \n",
       "5       0.004876  \n",
       "6       0.012838  "
      ]
     },
     "execution_count": 22,
     "metadata": {},
     "output_type": "execute_result"
    }
   ],
   "source": [
    "# Create pivot table for WOE info\n",
    "cls = 'amtinstpaidbefduel24m_4187115A'\n",
    "df_class_amt = create_iv_pivot_table_with_binning(df_base_info, df_static_0_0, cls, num_bins=20)\n",
    "\n",
    "# Create dummy variables\n",
    "df_base_class_amt = pd.read_csv(df_static_0_0, usecols=['case_id', cls])\n",
    "\n",
    "\n",
    "# Checking data\n",
    "print(df_class_amt[\"iv\"].sum())\n",
    "df_class_amt"
   ]
  },
  {
   "cell_type": "code",
   "execution_count": null,
   "id": "3e9f1430",
   "metadata": {},
   "outputs": [],
   "source": [
    "# Data Vizualization\n",
    "plot_woe_iv(df_class_amt, cls, rotation_X=90)"
   ]
  },
  {
   "cell_type": "markdown",
   "id": "88037d31",
   "metadata": {},
   "source": [
    "### Variável : `currdebt_22A`\n",
    "\n",
    "Descrição : Atual total de debido do cliente \n",
    "\n",
    "Classe IV : 0,002"
   ]
  },
  {
   "cell_type": "code",
   "execution_count": null,
   "id": "728fbabb",
   "metadata": {},
   "outputs": [],
   "source": [
    "cls = 'currdebt_22A'\n",
    "# df_class_curr = create_pivot_table(df_base_info, df_static_0_0, cls, )\n",
    "df_class_curr = create_iv_pivot_table_with_binning(df_base_info, df_static_0_0, cls, num_bins=20)\n",
    "\n",
    "print(df_class_curr[\"iv\"].sum())\n",
    "\n",
    "df_class_curr"
   ]
  },
  {
   "cell_type": "code",
   "execution_count": null,
   "id": "3611ce5e",
   "metadata": {},
   "outputs": [],
   "source": [
    "# Data Vizualization\n",
    "plot_woe_iv(df_class_curr, cls, rotation_X=90)"
   ]
  },
  {
   "cell_type": "markdown",
   "id": "c3d42c62",
   "metadata": {},
   "source": [
    "### Variável : `maxdpdlast12m_727P`\n",
    "\n",
    "Descrição : Maximum days past due in the past 12 months.\n",
    "\n",
    "Classe IV : 0,12"
   ]
  },
  {
   "cell_type": "code",
   "execution_count": 31,
   "id": "74166443",
   "metadata": {},
   "outputs": [
    {
     "name": "stdout",
     "output_type": "stream",
     "text": [
      "0.1128218612444349\n"
     ]
    },
    {
     "name": "stderr",
     "output_type": "stream",
     "text": [
      "/home/viriato/Documents/repos/credit_risk_model/lib/feature_eng.py:113: FutureWarning: The default of observed=False is deprecated and will be changed to True in a future version of pandas. Pass observed=False to retain current behavior or observed=True to adopt the future default and silence this warning.\n",
      "  df_merged.groupby(f\"{cls}_binned\")[\"target\"]\n"
     ]
    },
    {
     "data": {
      "text/html": [
       "<div>\n",
       "<style scoped>\n",
       "    .dataframe tbody tr th:only-of-type {\n",
       "        vertical-align: middle;\n",
       "    }\n",
       "\n",
       "    .dataframe tbody tr th {\n",
       "        vertical-align: top;\n",
       "    }\n",
       "\n",
       "    .dataframe thead th {\n",
       "        text-align: right;\n",
       "    }\n",
       "</style>\n",
       "<table border=\"1\" class=\"dataframe\">\n",
       "  <thead>\n",
       "    <tr style=\"text-align: right;\">\n",
       "      <th>target</th>\n",
       "      <th>Bin_Range</th>\n",
       "      <th>Non_Default</th>\n",
       "      <th>Default</th>\n",
       "      <th>non_events</th>\n",
       "      <th>events</th>\n",
       "      <th>woe</th>\n",
       "      <th>iv</th>\n",
       "    </tr>\n",
       "  </thead>\n",
       "  <tbody>\n",
       "    <tr>\n",
       "      <th>0</th>\n",
       "      <td>0-1</td>\n",
       "      <td>1348302</td>\n",
       "      <td>39198</td>\n",
       "      <td>0.911837</td>\n",
       "      <td>0.816727</td>\n",
       "      <td>0.110157</td>\n",
       "      <td>0.010477</td>\n",
       "    </tr>\n",
       "    <tr>\n",
       "      <th>1</th>\n",
       "      <td>1-2</td>\n",
       "      <td>27524</td>\n",
       "      <td>996</td>\n",
       "      <td>0.018614</td>\n",
       "      <td>0.020753</td>\n",
       "      <td>-0.108753</td>\n",
       "      <td>0.000233</td>\n",
       "    </tr>\n",
       "    <tr>\n",
       "      <th>2</th>\n",
       "      <td>2-4</td>\n",
       "      <td>32965</td>\n",
       "      <td>1444</td>\n",
       "      <td>0.022294</td>\n",
       "      <td>0.030087</td>\n",
       "      <td>-0.299790</td>\n",
       "      <td>0.002336</td>\n",
       "    </tr>\n",
       "    <tr>\n",
       "      <th>3</th>\n",
       "      <td>4-11</td>\n",
       "      <td>37911</td>\n",
       "      <td>2296</td>\n",
       "      <td>0.025639</td>\n",
       "      <td>0.047839</td>\n",
       "      <td>-0.623746</td>\n",
       "      <td>0.013848</td>\n",
       "    </tr>\n",
       "    <tr>\n",
       "      <th>4</th>\n",
       "      <td>11-4430</td>\n",
       "      <td>31963</td>\n",
       "      <td>4060</td>\n",
       "      <td>0.021616</td>\n",
       "      <td>0.084594</td>\n",
       "      <td>-1.364423</td>\n",
       "      <td>0.085928</td>\n",
       "    </tr>\n",
       "  </tbody>\n",
       "</table>\n",
       "</div>"
      ],
      "text/plain": [
       "target Bin_Range  Non_Default  Default  non_events    events       woe  \\\n",
       "0            0-1      1348302    39198    0.911837  0.816727  0.110157   \n",
       "1            1-2        27524      996    0.018614  0.020753 -0.108753   \n",
       "2            2-4        32965     1444    0.022294  0.030087 -0.299790   \n",
       "3           4-11        37911     2296    0.025639  0.047839 -0.623746   \n",
       "4        11-4430        31963     4060    0.021616  0.084594 -1.364423   \n",
       "\n",
       "target        iv  \n",
       "0       0.010477  \n",
       "1       0.000233  \n",
       "2       0.002336  \n",
       "3       0.013848  \n",
       "4       0.085928  "
      ]
     },
     "execution_count": 31,
     "metadata": {},
     "output_type": "execute_result"
    }
   ],
   "source": [
    "cls = 'maxdpdlast12m_727P'\n",
    "# df_class_max_dpd_year = create_pivot_table(df_base_info, df_static_0_0, cls, )\n",
    "df_class_max_dpd_year = create_iv_pivot_table_with_binning(df_base_info, df_static_0_0, cls, num_bins=40)\n",
    "\n",
    "print(df_class_max_dpd_year[\"iv\"].sum())\n",
    "\n",
    "df_class_max_dpd_year"
   ]
  },
  {
   "cell_type": "code",
   "execution_count": 32,
   "id": "0868d984",
   "metadata": {},
   "outputs": [
    {
     "data": {
      "image/png": "[encoded data removed]",
      "text/plain": [
       "<Figure size 2000x1000 with 1 Axes>"
      ]
     },
     "metadata": {},
     "output_type": "display_data"
    }
   ],
   "source": [
    "# Data Vizualization\n",
    "plot_woe_iv(df_class_max_dpd_year, cls, rotation_X=90)"
   ]
  },
  {
   "cell_type": "markdown",
   "id": "1f9a0229",
   "metadata": {},
   "source": [
    "### Variável : `contractssum_5085716L`\n",
    "\n",
    "Descrição : Soma total de valores de contratos recuperados de bureau de crédito externo\n",
    "\n",
    "Classe IV : 0,021"
   ]
  },
  {
   "cell_type": "code",
   "execution_count": null,
   "id": "f3c8d1df",
   "metadata": {},
   "outputs": [],
   "source": [
    "cls = 'contractssum_5085716L'\n",
    "df_class_retrieved_contracts = create_iv_pivot_table_with_binning(df_base_info, df_static_cb_0, cls, num_bins=2000)\n",
    "\n",
    "print(df_class_retrieved_contracts[\"iv\"].sum())\n",
    "\n",
    "df_class_retrieved_contracts"
   ]
  },
  {
   "cell_type": "code",
   "execution_count": null,
   "id": "a584c98e",
   "metadata": {},
   "outputs": [],
   "source": [
    "# Data Vizualization\n",
    "plot_woe_iv(df_class_retrieved_contracts, cls, rotation_X=90)"
   ]
  },
  {
   "cell_type": "markdown",
   "id": "c74325c5",
   "metadata": {},
   "source": [
    "### Variável : `downpmt_116A`\n",
    "\n",
    "Descrição : Valor da entrada\n",
    "\n",
    "Classe IV : 0,0067"
   ]
  },
  {
   "cell_type": "code",
   "execution_count": null,
   "id": "cc0bd3ed",
   "metadata": {},
   "outputs": [],
   "source": [
    "cls = 'downpmt_116A'\n",
    "df_class_downpay = create_iv_pivot_table_with_binning(df_base_info, df_static_0_0, cls, num_bins=2000)\n",
    "\n",
    "print(df_class_downpay[\"iv\"].sum())\n",
    "\n",
    "df_class_downpay"
   ]
  },
  {
   "cell_type": "code",
   "execution_count": null,
   "id": "374de48d",
   "metadata": {},
   "outputs": [],
   "source": [
    "# Data Vizualization\n",
    "plot_woe_iv(df_class_downpay, cls, rotation_X=90)"
   ]
  }
 ],
 "metadata": {
  "kernelspec": {
   "display_name": ".venv",
   "language": "python",
   "name": "python3"
  },
  "language_info": {
   "codemirror_mode": {
    "name": "ipython",
    "version": 3
   },
   "file_extension": ".py",
   "mimetype": "text/x-python",
   "name": "python",
   "nbconvert_exporter": "python",
   "pygments_lexer": "ipython3",
   "version": "3.13.0"
  }
 },
 "nbformat": 4,
 "nbformat_minor": 5
}
