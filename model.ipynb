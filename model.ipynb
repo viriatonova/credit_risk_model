{
 "cells": [
  {
   "cell_type": "markdown",
   "id": "02d44cdc",
   "metadata": {},
   "source": [
    "# Modelo de Risco de Crédito"
   ]
  },
  {
   "cell_type": "markdown",
   "id": "aa0e17f0",
   "metadata": {},
   "source": [
    "### Extraição de dados usando Kaggle CLI\n"
   ]
  },
  {
   "cell_type": "code",
   "execution_count": null,
   "id": "62dda8d8",
   "metadata": {},
   "outputs": [
    {
     "name": "stderr",
     "output_type": "stream",
     "text": [
      "bash: line 2:  : command not found\n"
     ]
    },
    {
     "name": "stdout",
     "output_type": "stream",
     "text": [
      "Warning: Your Kaggle API key is readable by other users on this system! To fix this, you can run 'chmod 600 /home/viriato/.kaggle/kaggle.json'\n",
      "Downloading home-credit-credit-risk-model-stability.zip to /home/viriato/Documents/repos/credit_risk_model/data\n"
     ]
    },
    {
     "name": "stderr",
     "output_type": "stream",
     "text": [
      " 99%|███████████████████████████████�     | 2.28G/3.14G [00:00<00:00, 2.34GB/s]s]3GB/s]0, 2.31GB/s]00:00, 2.35GB/s]00:00<00:00, 2.37GB/s].14G [00:00<00:00, 2.39GB/s]1G/3.14G [00:01<00:00, 2.41GB/s] | 2.44G/3.14G [00:01<00:00, 2.43GB/s]��     | 2.66G/3.14G [00:01<00:00, 2.43GB/s]��██   | 2.89G/3.14G [00:01<00:00, 2.42GB/s]��████▋| 3.12G/3.14G [00:01<00:00, 2.42GB/s]"
     ]
    },
    {
     "name": "stdout",
     "output_type": "stream",
     "text": [
      "\n"
     ]
    },
    {
     "name": "stderr",
     "output_type": "stream",
     "text": [
      "100%|███████████████████████████████���█████| 3.14G/3.14G [00:01<00:00, 2.38GB/s]\n"
     ]
    },
    {
     "name": "stdout",
     "output_type": "stream",
     "text": [
      "Archive:  home-credit-credit-risk-model-stability.zip\n",
      "  inflating: csv_files/test/test_applprev_1_0.csv  \n",
      "  inflating: csv_files/test/test_applprev_1_1.csv  \n",
      "  inflating: csv_files/test/test_applprev_1_2.csv  \n",
      "  inflating: csv_files/test/test_applprev_2.csv  \n",
      "  inflating: csv_files/test/test_base.csv  \n",
      "  inflating: csv_files/test/test_credit_bureau_a_1_0.csv  \n",
      "  inflating: csv_files/test/test_credit_bureau_a_1_1.csv  \n",
      "  inflating: csv_files/test/test_credit_bureau_a_1_2.csv  \n",
      "  inflating: csv_files/test/test_credit_bureau_a_1_3.csv  \n",
      "  inflating: csv_files/test/test_credit_bureau_a_1_4.csv  \n",
      "  inflating: csv_files/test/test_credit_bureau_a_2_0.csv  \n",
      "  inflating: csv_files/test/test_credit_bureau_a_2_1.csv  \n",
      "  inflating: csv_files/test/test_credit_bureau_a_2_10.csv  \n",
      "  inflating: csv_files/test/test_credit_bureau_a_2_11.csv  \n",
      "  inflating: csv_files/test/test_credit_bureau_a_2_2.csv  \n",
      "  inflating: csv_files/test/test_credit_bureau_a_2_3.csv  \n",
      "  inflating: csv_files/test/test_credit_bureau_a_2_4.csv  \n",
      "  inflating: csv_files/test/test_credit_bureau_a_2_5.csv  \n",
      "  inflating: csv_files/test/test_credit_bureau_a_2_6.csv  \n",
      "  inflating: csv_files/test/test_credit_bureau_a_2_7.csv  \n",
      "  inflating: csv_files/test/test_credit_bureau_a_2_8.csv  \n",
      "  inflating: csv_files/test/test_credit_bureau_a_2_9.csv  \n",
      "  inflating: csv_files/test/test_credit_bureau_b_1.csv  \n",
      "  inflating: csv_files/test/test_credit_bureau_b_2.csv  \n",
      "  inflating: csv_files/test/test_debitcard_1.csv  \n",
      "  inflating: csv_files/test/test_deposit_1.csv  \n",
      "  inflating: csv_files/test/test_other_1.csv  \n",
      "  inflating: csv_files/test/test_person_1.csv  \n",
      "  inflating: csv_files/test/test_person_2.csv  \n",
      "  inflating: csv_files/test/test_static_0_0.csv  \n",
      "  inflating: csv_files/test/test_static_0_1.csv  \n",
      "  inflating: csv_files/test/test_static_0_2.csv  \n",
      "  inflating: csv_files/test/test_static_cb_0.csv  \n",
      "  inflating: csv_files/test/test_tax_registry_a_1.csv  \n",
      "  inflating: csv_files/test/test_tax_registry_b_1.csv  \n",
      "  inflating: csv_files/test/test_tax_registry_c_1.csv  \n",
      "  inflating: csv_files/train/train_applprev_1_0.csv  \n",
      "  inflating: csv_files/train/train_applprev_1_1.csv  \n",
      "  inflating: csv_files/train/train_applprev_2.csv  \n",
      "  inflating: csv_files/train/train_base.csv  \n",
      "  inflating: csv_files/train/train_credit_bureau_a_1_0.csv  \n",
      "  inflating: csv_files/train/train_credit_bureau_a_1_1.csv  \n",
      "  inflating: csv_files/train/train_credit_bureau_a_1_2.csv  \n",
      "  inflating: csv_files/train/train_credit_bureau_a_1_3.csv  \n",
      "  inflating: csv_files/train/train_credit_bureau_a_2_0.csv  \n",
      "  inflating: csv_files/train/train_credit_bureau_a_2_1.csv  \n",
      "  inflating: csv_files/train/train_credit_bureau_a_2_10.csv  \n",
      "  inflating: csv_files/train/train_credit_bureau_a_2_2.csv  \n",
      "  inflating: csv_files/train/train_credit_bureau_a_2_3.csv  \n",
      "  inflating: csv_files/train/train_credit_bureau_a_2_4.csv  \n",
      "  inflating: csv_files/train/train_credit_bureau_a_2_5.csv  \n",
      "  inflating: csv_files/train/train_credit_bureau_a_2_6.csv  \n",
      "  inflating: csv_files/train/train_credit_bureau_a_2_7.csv  \n",
      "  inflating: csv_files/train/train_credit_bureau_a_2_8.csv  \n",
      "  inflating: csv_files/train/train_credit_bureau_a_2_9.csv  \n",
      "  inflating: csv_files/train/train_credit_bureau_b_1.csv  \n",
      "  inflating: csv_files/train/train_credit_bureau_b_2.csv  \n",
      "  inflating: csv_files/train/train_debitcard_1.csv  \n",
      "  inflating: csv_files/train/train_deposit_1.csv  \n",
      "  inflating: csv_files/train/train_other_1.csv  \n",
      "  inflating: csv_files/train/train_person_1.csv  \n",
      "  inflating: csv_files/train/train_person_2.csv  \n",
      "  inflating: csv_files/train/train_static_0_0.csv  \n",
      "  inflating: csv_files/train/train_static_0_1.csv  \n",
      "  inflating: csv_files/train/train_static_cb_0.csv  \n",
      "  inflating: csv_files/train/train_tax_registry_a_1.csv  \n",
      "  inflating: csv_files/train/train_tax_registry_b_1.csv  \n",
      "  inflating: csv_files/train/train_tax_registry_c_1.csv  \n",
      "  inflating: feature_definitions.csv  \n",
      "  inflating: parquet_files/test/test_applprev_1_0.parquet  \n",
      "  inflating: parquet_files/test/test_applprev_1_1.parquet  \n",
      "  inflating: parquet_files/test/test_applprev_1_2.parquet  \n",
      "  inflating: parquet_files/test/test_applprev_2.parquet  \n",
      "  inflating: parquet_files/test/test_base.parquet  \n",
      "  inflating: parquet_files/test/test_credit_bureau_a_1_0.parquet  \n",
      "  inflating: parquet_files/test/test_credit_bureau_a_1_1.parquet  \n",
      "  inflating: parquet_files/test/test_credit_bureau_a_1_2.parquet  \n",
      "  inflating: parquet_files/test/test_credit_bureau_a_1_3.parquet  \n",
      "  inflating: parquet_files/test/test_credit_bureau_a_1_4.parquet  \n",
      "  inflating: parquet_files/test/test_credit_bureau_a_2_0.parquet  \n",
      "  inflating: parquet_files/test/test_credit_bureau_a_2_1.parquet  \n",
      "  inflating: parquet_files/test/test_credit_bureau_a_2_10.parquet  \n",
      "  inflating: parquet_files/test/test_credit_bureau_a_2_11.parquet  \n",
      "  inflating: parquet_files/test/test_credit_bureau_a_2_2.parquet  \n",
      "  inflating: parquet_files/test/test_credit_bureau_a_2_3.parquet  \n",
      "  inflating: parquet_files/test/test_credit_bureau_a_2_4.parquet  \n",
      "  inflating: parquet_files/test/test_credit_bureau_a_2_5.parquet  \n",
      "  inflating: parquet_files/test/test_credit_bureau_a_2_6.parquet  \n",
      "  inflating: parquet_files/test/test_credit_bureau_a_2_7.parquet  \n",
      "  inflating: parquet_files/test/test_credit_bureau_a_2_8.parquet  \n",
      "  inflating: parquet_files/test/test_credit_bureau_a_2_9.parquet  \n",
      "  inflating: parquet_files/test/test_credit_bureau_b_1.parquet  \n",
      "  inflating: parquet_files/test/test_credit_bureau_b_2.parquet  \n",
      "  inflating: parquet_files/test/test_debitcard_1.parquet  \n",
      "  inflating: parquet_files/test/test_deposit_1.parquet  \n",
      "  inflating: parquet_files/test/test_other_1.parquet  \n",
      "  inflating: parquet_files/test/test_person_1.parquet  \n",
      "  inflating: parquet_files/test/test_person_2.parquet  \n",
      "  inflating: parquet_files/test/test_static_0_0.parquet  \n",
      "  inflating: parquet_files/test/test_static_0_1.parquet  \n",
      "  inflating: parquet_files/test/test_static_0_2.parquet  \n",
      "  inflating: parquet_files/test/test_static_cb_0.parquet  \n",
      "  inflating: parquet_files/test/test_tax_registry_a_1.parquet  \n",
      "  inflating: parquet_files/test/test_tax_registry_b_1.parquet  \n",
      "  inflating: parquet_files/test/test_tax_registry_c_1.parquet  \n",
      "  inflating: parquet_files/train/train_applprev_1_0.parquet  \n",
      "  inflating: parquet_files/train/train_applprev_1_1.parquet  \n",
      "  inflating: parquet_files/train/train_applprev_2.parquet  \n",
      "  inflating: parquet_files/train/train_base.parquet  \n",
      "  inflating: parquet_files/train/train_credit_bureau_a_1_0.parquet  \n",
      "  inflating: parquet_files/train/train_credit_bureau_a_1_1.parquet  \n",
      "  inflating: parquet_files/train/train_credit_bureau_a_1_2.parquet  \n",
      "  inflating: parquet_files/train/train_credit_bureau_a_1_3.parquet  \n",
      "  inflating: parquet_files/train/train_credit_bureau_a_2_0.parquet  \n",
      "  inflating: parquet_files/train/train_credit_bureau_a_2_1.parquet  \n",
      "  inflating: parquet_files/train/train_credit_bureau_a_2_10.parquet  \n",
      "  inflating: parquet_files/train/train_credit_bureau_a_2_2.parquet  \n",
      "  inflating: parquet_files/train/train_credit_bureau_a_2_3.parquet  \n",
      "  inflating: parquet_files/train/train_credit_bureau_a_2_4.parquet  \n",
      "  inflating: parquet_files/train/train_credit_bureau_a_2_5.parquet  \n",
      "  inflating: parquet_files/train/train_credit_bureau_a_2_6.parquet  \n",
      "  inflating: parquet_files/train/train_credit_bureau_a_2_7.parquet  \n",
      "  inflating: parquet_files/train/train_credit_bureau_a_2_8.parquet  \n",
      "  inflating: parquet_files/train/train_credit_bureau_a_2_9.parquet  \n",
      "  inflating: parquet_files/train/train_credit_bureau_b_1.parquet  \n",
      "  inflating: parquet_files/train/train_credit_bureau_b_2.parquet  \n",
      "  inflating: parquet_files/train/train_debitcard_1.parquet  \n",
      "  inflating: parquet_files/train/train_deposit_1.parquet  \n",
      "  inflating: parquet_files/train/train_other_1.parquet  \n",
      "  inflating: parquet_files/train/train_person_1.parquet  \n",
      "  inflating: parquet_files/train/train_person_2.parquet  \n",
      "  inflating: parquet_files/train/train_static_0_0.parquet  \n",
      "  inflating: parquet_files/train/train_static_0_1.parquet  \n",
      "  inflating: parquet_files/train/train_static_cb_0.parquet  \n",
      "  inflating: parquet_files/train/train_tax_registry_a_1.parquet  \n",
      "  inflating: parquet_files/train/train_tax_registry_b_1.parquet  \n",
      "  inflating: parquet_files/train/train_tax_registry_c_1.parquet  \n",
      "  inflating: sample_submission.csv   \n"
     ]
    }
   ],
   "source": [
    "%%bash\n",
    "mkdir -p data && \\\n",
    "cd data && \\ \n",
    "kaggle competitions download -c home-credit-credit-risk-model-stability && \\\n",
    "unzip home-credit-credit-risk-model-stability.zip && \\\n",
    "rm -rf parquet_files \\"
   ]
  }
 ],
 "metadata": {
  "kernelspec": {
   "display_name": ".venv",
   "language": "python",
   "name": "python3"
  },
  "language_info": {
   "codemirror_mode": {
    "name": "ipython",
    "version": 3
   },
   "file_extension": ".py",
   "mimetype": "text/x-python",
   "name": "python",
   "nbconvert_exporter": "python",
   "pygments_lexer": "ipython3",
   "version": "3.13.5"
  }
 },
 "nbformat": 4,
 "nbformat_minor": 5
}
