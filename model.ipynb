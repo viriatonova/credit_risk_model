{
 "cells": [
  {
   "cell_type": "markdown",
   "id": "02d44cdc",
   "metadata": {},
   "source": [
    "# Modelo de Risco de Crédito"
   ]
  },
  {
   "cell_type": "code",
   "execution_count": 1,
   "id": "eeacf51d",
   "metadata": {},
   "outputs": [],
   "source": [
    "import pandas as pd\n",
    "from lib.feature_eng import find_class_columns"
   ]
  },
  {
   "cell_type": "markdown",
   "id": "aa0e17f0",
   "metadata": {},
   "source": [
    "### Extraição de dados usando Kaggle CLI\n"
   ]
  },
  {
   "cell_type": "code",
   "execution_count": null,
   "id": "62dda8d8",
   "metadata": {},
   "outputs": [],
   "source": [
    "%%bash\n",
    "mkdir -p data && \\\n",
    "cd data && \\ \n",
    "kaggle competitions download -c home-credit-credit-risk-model-stability && \\\n",
    "unzip home-credit-credit-risk-model-stability.zip && \\\n",
    "rm -rf parquet_files \\"
   ]
  },
  {
   "cell_type": "markdown",
   "id": "8e8be533",
   "metadata": {},
   "source": [
    "### Exploração e pré-processamento dos dados"
   ]
  },
  {
   "cell_type": "markdown",
   "id": "a630e535",
   "metadata": {},
   "source": [
    "PD na base de treino = 3,14%"
   ]
  },
  {
   "cell_type": "code",
   "execution_count": 2,
   "id": "d0bf669f",
   "metadata": {},
   "outputs": [
    {
     "name": "stdout",
     "output_type": "stream",
     "text": [
      "0.03143727577671242\n"
     ]
    }
   ],
   "source": [
    "df_base_train = pd.read_csv('data/csv_files/train/train_base.csv')\n",
    "df_base_train.head(10)\n",
    "\n",
    "count = df_base_train.target.value_counts()\n",
    "\n",
    "# porcentagem de inadimplencia\n",
    "not_default_rate = count[1] / (count[0] + count[1])\n",
    "print(not_default_rate)"
   ]
  },
  {
   "cell_type": "markdown",
   "id": "4ae6cfb9",
   "metadata": {},
   "source": [
    "### Seleção de arquivos relacionados com as classes escolhidas"
   ]
  },
  {
   "cell_type": "code",
   "execution_count": 2,
   "id": "af35316a",
   "metadata": {},
   "outputs": [
    {
     "name": "stdout",
     "output_type": "stream",
     "text": [
      "depth_0 = {'train_static_0_0': {'amtinstpaidbefduel24m_4187115A', 'maxdpdlast12m_727P', 'currdebtcredtyperange_828A', 'cntpmts24_3658933L', 'downpmt_116A', 'currdebt_22A'}, 'train_static_0_1': {'amtinstpaidbefduel24m_4187115A', 'maxdpdlast12m_727P', 'currdebtcredtyperange_828A', 'cntpmts24_3658933L', 'downpmt_116A', 'currdebt_22A'}, 'train_static_cb_0': {'days360_512L', 'education_88M', 'for3years_128L'}}\n",
      "depth_1 = {'train_applprev_1_0': {'credacc_actualbalance_314A', 'credacc_maxhisbal_375A', 'credacc_minhisbal_90A'}, 'train_applprev_1_1': {'credacc_actualbalance_314A', 'credacc_maxhisbal_375A', 'credacc_minhisbal_90A'}, 'train_other_1': {'amtdepositincoming_4809444A', 'amtdepositoutgoing_4809442A', 'amtdepositbalance_4809441A'}, 'train_credit_bureau_a_1_0': {'contractsum_5085717L'}, 'train_credit_bureau_a_1_1': {'contractsum_5085717L'}, 'train_credit_bureau_a_1_2': {'contractsum_5085717L'}, 'train_credit_bureau_a_1_3': {'contractsum_5085717L'}, 'train_deposit_1': {'amount_416A'}, 'train_person_1': {'gender_992L', 'birthdate_87D'}}\n",
      "depth_2 = {}\n"
     ]
    }
   ],
   "source": [
    "train_depth_0 = ['train_static_0_0', 'train_static_0_1','train_static_cb_0']\n",
    "train_depth_1 = [\n",
    "  'train_applprev_1_0', 'train_applprev_1_1','train_other_1', 'train_tax_registry_a_1', \n",
    "  'train_tax_registry_b_1', 'train_tax_registry_c_1', 'train_credit_bureau_a_1_0', \n",
    "  'train_credit_bureau_a_1_1', 'train_credit_bureau_a_1_2', 'train_credit_bureau_a_1_3', \n",
    "  'train_credit_bureau_b_1', 'train_deposit_1', 'train_person_1', 'train_debitcard_1',\n",
    "]\n",
    "train_depth_2 = [\n",
    "  'train_applprev_2', 'train_person_2', 'train_credit_bureau_a_2_0', 'train_credit_bureau_a_2_1',\n",
    "  'train_credit_bureau_a_2_2', 'train_credit_bureau_a_2_3', 'train_credit_bureau_a_2_4',\n",
    "  'train_credit_bureau_a_2_5', 'train_credit_bureau_a_2_6', 'train_credit_bureau_a_2_7',\n",
    "  'train_credit_bureau_a_2_8', 'train_credit_bureau_a_2_9', 'train_credit_bureau_a_2_10',\n",
    "  'train_credit_bureau_b_2',\n",
    "]\n",
    "\n",
    "classes_list = [\n",
    "  'amount_416A', 'amtdepositbalance_4809441A','amtdepositincoming_4809444A', 'amtdepositoutgoing_4809442A',\n",
    "  'amtinstpaidbefduel24m_4187115A', 'days360_512L','maxdpdlast12m_727P',\n",
    "  'birthdate_87D', 'cntpmts24_3658933L', 'credacc_actualbalance_314A','credacc_maxhisbal_375A', 'credacc_minhisbal_90A',\n",
    "  'currdebt_22A', 'currdebtcredtyperange_828A', 'contractsum_5085717L', 'downpmt_116A', 'education_88M',\n",
    "  'for3years_128L', 'gender_992L'\n",
    "]\n",
    "\n",
    "depth_0_occurrences = find_class_columns(feature_cols=classes_list, file_list=train_depth_0)\n",
    "depth_1_occurrences = find_class_columns(feature_cols=classes_list, file_list=train_depth_1)\n",
    "depth_2_occurrences = find_class_columns(feature_cols=classes_list, file_list=train_depth_2)\n",
    "\n",
    "# Dicionarios com arquivos e suas respectivas colunas (classes)\n",
    "print(f'depth_0 = {depth_0_occurrences}') \n",
    "print(f'depth_1 = {depth_1_occurrences}')\n",
    "print(f'depth_2 = {depth_2_occurrences}')"
   ]
  },
  {
   "cell_type": "markdown",
   "id": "3fdbfd61",
   "metadata": {},
   "source": [
    "### Pré-processamento dos dados selecionados"
   ]
  },
  {
   "cell_type": "code",
   "execution_count": 12,
   "id": "c8d8cdb1",
   "metadata": {},
   "outputs": [
    {
     "ename": "NameError",
     "evalue": "name 'np' is not defined",
     "output_type": "error",
     "traceback": [
      "\u001b[31m---------------------------------------------------------------------------\u001b[39m",
      "\u001b[31mNameError\u001b[39m                                 Traceback (most recent call last)",
      "\u001b[36mCell\u001b[39m\u001b[36m \u001b[39m\u001b[32mIn[12]\u001b[39m\u001b[32m, line 24\u001b[39m\n\u001b[32m     21\u001b[39m result[\u001b[33m'\u001b[39m\u001b[33mpct_non_events\u001b[39m\u001b[33m'\u001b[39m] = result[\u001b[33m'\u001b[39m\u001b[33mnon_events\u001b[39m\u001b[33m'\u001b[39m] / total_non_events\n\u001b[32m     23\u001b[39m \u001b[38;5;66;03m# Calculate WoE and Information Value (IV)\u001b[39;00m\n\u001b[32m---> \u001b[39m\u001b[32m24\u001b[39m result[\u001b[33m'\u001b[39m\u001b[33mwoe\u001b[39m\u001b[33m'\u001b[39m] = \u001b[43mnp\u001b[49m.log(result[\u001b[33m'\u001b[39m\u001b[33mpct_events\u001b[39m\u001b[33m'\u001b[39m] / result[\u001b[33m'\u001b[39m\u001b[33mpct_non_events\u001b[39m\u001b[33m'\u001b[39m])\n\u001b[32m     25\u001b[39m result[\u001b[33m'\u001b[39m\u001b[33miv\u001b[39m\u001b[33m'\u001b[39m] = (result[\u001b[33m'\u001b[39m\u001b[33mpct_events\u001b[39m\u001b[33m'\u001b[39m] - result[\u001b[33m'\u001b[39m\u001b[33mpct_non_events\u001b[39m\u001b[33m'\u001b[39m]) * result[\u001b[33m'\u001b[39m\u001b[33mwoe\u001b[39m\u001b[33m'\u001b[39m]\n\u001b[32m     27\u001b[39m \u001b[38;5;66;03m# total_iv = result['iv'].sum()\u001b[39;00m\n",
      "\u001b[31mNameError\u001b[39m: name 'np' is not defined"
     ]
    }
   ],
   "source": [
    "\n",
    "train_static_0_0 = list(depth_0_occurrences['train_static_0_0'])\n",
    "train_static_0_0.insert(0, 'case_id')\n",
    "\n",
    "# Meses com renda : cntpmts24_3658933L\n",
    "df_base_info = pd.read_csv('data/csv_files/train/train_base.csv', usecols=['case_id', 'target'])\n",
    "df_static = pd.read_csv('data/csv_files/train/train_static_0_0.csv', usecols=[\"case_id\", \"cntpmts24_3658933L\"])\n",
    "df_renda = pd.merge(df_base_info, df_static, how='left', on='case_id')\n",
    "df_renda.fillna(0, inplace=True)\n",
    "\n",
    "result = df_renda.groupby('cntpmts24_3658933L')['target'].value_counts().unstack(fill_value=0)\n",
    "\n",
    "# Add necessary columns\n",
    "result.columns = ['non_events', 'events']  # target=0, target=1\n",
    "result['total_obs'] = result['non_events'] + result['events']\n",
    "\n",
    "# Calculate distributions\n",
    "total_events = result['events'].sum()\n",
    "total_non_events = result['non_events'].sum()\n",
    "\n",
    "result['pct_events'] = result['events'] / total_events\n",
    "result['pct_non_events'] = result['non_events'] / total_non_events\n",
    "\n",
    "# Calculate WoE and Information Value (IV)\n",
    "result['woe'] = np.log(result['pct_events'] / result['pct_non_events'])\n",
    "result['iv'] = (result['pct_events'] - result['pct_non_events']) * result['woe']\n",
    "\n",
    "# total_iv = result['iv'].sum()\n",
    "\n",
    "result"
   ]
  },
  {
   "cell_type": "code",
   "execution_count": null,
   "id": "bd052ce0",
   "metadata": {},
   "outputs": [],
   "source": []
  }
 ],
 "metadata": {
  "kernelspec": {
   "display_name": ".venv",
   "language": "python",
   "name": "python3"
  },
  "language_info": {
   "codemirror_mode": {
    "name": "ipython",
    "version": 3
   },
   "file_extension": ".py",
   "mimetype": "text/x-python",
   "name": "python",
   "nbconvert_exporter": "python",
   "pygments_lexer": "ipython3",
   "version": "3.13.0"
  }
 },
 "nbformat": 4,
 "nbformat_minor": 5
}
