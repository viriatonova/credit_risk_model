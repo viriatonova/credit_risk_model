{
 "cells": [
  {
   "cell_type": "markdown",
   "id": "02d44cdc",
   "metadata": {},
   "source": [
    "# Modelo de Risco de Crédito"
   ]
  },
  {
   "cell_type": "code",
   "execution_count": 7,
   "id": "eeacf51d",
   "metadata": {},
   "outputs": [],
   "source": [
    "import pandas as pd"
   ]
  },
  {
   "cell_type": "markdown",
   "id": "aa0e17f0",
   "metadata": {},
   "source": [
    "### Extraição de dados usando Kaggle CLI\n"
   ]
  },
  {
   "cell_type": "code",
   "execution_count": null,
   "id": "62dda8d8",
   "metadata": {},
   "outputs": [],
   "source": [
    "%%bash\n",
    "mkdir -p data && \\\n",
    "cd data && \\ \n",
    "kaggle competitions download -c home-credit-credit-risk-model-stability && \\\n",
    "unzip home-credit-credit-risk-model-stability.zip && \\\n",
    "rm -rf parquet_files \\"
   ]
  },
  {
   "cell_type": "markdown",
   "id": "8e8be533",
   "metadata": {},
   "source": [
    "### Exploração dos dados"
   ]
  },
  {
   "cell_type": "code",
   "execution_count": null,
   "id": "d0bf669f",
   "metadata": {},
   "outputs": [
    {
     "name": "stdout",
     "output_type": "stream",
     "text": [
      "                     Variable  \\\n",
      "0              actualdpd_943P   \n",
      "1     actualdpdtolerance_344P   \n",
      "2        addres_district_368M   \n",
      "3            addres_role_871L   \n",
      "4             addres_zip_823M   \n",
      "..                        ...   \n",
      "460  totinstallast1m_4525188A   \n",
      "461        twobodfilling_608L   \n",
      "462                  type_25L   \n",
      "463            typesuite_864L   \n",
      "464           validfrom_1069D   \n",
      "\n",
      "                                           Description  \n",
      "0    Days Past Due (DPD) of previous contract (actu...  \n",
      "1                        DPD of client with tolerance.  \n",
      "2                    District of the person's address.  \n",
      "3                            Role of person's address.  \n",
      "4                             Zip code of the address.  \n",
      "..                                                 ...  \n",
      "460  Total amount of monthly instalments paid in th...  \n",
      "461                       Type of application process.  \n",
      "462                          Contact type of a person.  \n",
      "463  Persons accompanying the client during the loa...  \n",
      "464      Date since the client has an active campaign.  \n",
      "\n",
      "[465 rows x 2 columns]\n"
     ]
    }
   ],
   "source": [
    "# Reading Features Definition\n",
    "df_feat_definition = pd.read_csv('data/feature_definitions.csv')\n",
    "df_feat_definition\n",
    "# file = 'train_base.csv'\n",
    "# file = 'train_static_0_0.csv'\n",
    "# df = pd.read_csv(f'data/csv_files/train/{file}')\n",
    "# df.head(10)"
   ]
  },
  {
   "cell_type": "code",
   "execution_count": null,
   "id": "2544868e",
   "metadata": {},
   "outputs": [],
   "source": []
  }
 ],
 "metadata": {
  "kernelspec": {
   "display_name": ".venv",
   "language": "python",
   "name": "python3"
  },
  "language_info": {
   "codemirror_mode": {
    "name": "ipython",
    "version": 3
   },
   "file_extension": ".py",
   "mimetype": "text/x-python",
   "name": "python",
   "nbconvert_exporter": "python",
   "pygments_lexer": "ipython3",
   "version": "3.13.5"
  }
 },
 "nbformat": 4,
 "nbformat_minor": 5
}
