{
 "cells": [
  {
   "cell_type": "markdown",
   "id": "6fb2bdde",
   "metadata": {},
   "source": [
    "# PD Model"
   ]
  },
  {
   "cell_type": "code",
   "execution_count": null,
   "id": "6cfc33f6",
   "metadata": {},
   "outputs": [],
   "source": [
    "import pandas as pd\n",
    "import numpy as np\n",
    "\n",
    "from sklearn.linear_model import LogisticRegression\n",
    "from sklearn import metrics"
   ]
  },
  {
   "cell_type": "code",
   "execution_count": null,
   "id": "42aa8893",
   "metadata": {},
   "outputs": [],
   "source": [
    "stages = ['train', 'test']\n",
    "cls_cnt = 'cntpmts24_3658933L'\n",
    "cls_amt = 'amtinstpaidbefduel24m_4187115A'\n",
    "cls_max = 'maxdpdlast12m_727P'\n",
    "\n",
    "\n",
    "for stage in stages:\n",
    "  base_path = f'data/csv_files/{stage}/{stage}_base.csv'\n",
    "  static_path_0_0 = f'data/csv_files/{stage}/{stage}_static_0_0.csv'\n",
    "  static_path_cb_0 = f'data/csv_files/{stage}/{stage}_static_cb_0.csv'\n",
    "\n",
    "  if stage == 'train':\n",
    "    df_base = pd.read_csv(base_path, usecols=['case_id', 'target'])\n",
    "  else:\n",
    "    df_base = pd.read_csv(base_path, usecols=['case_id'])\n",
    "\n",
    "  df_base_class_cmt = pd.read_csv(static_path_0_0, usecols=['case_id', cls_cnt])\n",
    "  df_base_class_amt = pd.read_csv(static_path_0_0, usecols=['case_id', cls_amt])\n",
    "  df_base_class_max = pd.read_csv(static_path_0_0, usecols=['case_id', cls_max])\n",
    "\n",
    "  df_base_class_cmt[f'{cls_cnt}:missing'] = np.where((df_base_class_cmt[cls_cnt].isnull()), 1, 0)\n",
    "  df_base_class_cmt[f'{cls_cnt}:0-3'] = np.where((df_base_class_cmt[cls_cnt] >= 0) & (df_base_class_cmt[cls_cnt] <= 3), 1, 0)\n",
    "  df_base_class_cmt[f'{cls_cnt}:3-5'] = np.where((df_base_class_cmt[cls_cnt] >= 3) & (df_base_class_cmt[cls_cnt] <= 5), 1, 0)\n",
    "  df_base_class_cmt[f'{cls_cnt}:5-8'] = np.where((df_base_class_cmt[cls_cnt] >= 5) & (df_base_class_cmt[cls_cnt] <= 8), 1, 0)\n",
    "  df_base_class_cmt[f'{cls_cnt}:8-11'] = np.where((df_base_class_cmt[cls_cnt] >= 8) & (df_base_class_cmt[cls_cnt] <= 11), 1, 0)\n",
    "  df_base_class_cmt[f'{cls_cnt}:11-13'] = np.where((df_base_class_cmt[cls_cnt] >= 11) & (df_base_class_cmt[cls_cnt] <= 13), 1, 0)\n",
    "  df_base_class_cmt[f'{cls_cnt}:13-17'] = np.where((df_base_class_cmt[cls_cnt] >= 13) & (df_base_class_cmt[cls_cnt] <= 17), 1, 0)\n",
    "  df_base_class_cmt[f'{cls_cnt}:17-22'] = np.where((df_base_class_cmt[cls_cnt] >= 17) & (df_base_class_cmt[cls_cnt] <= 22), 1, 0)\n",
    "  df_base_class_cmt[f'{cls_cnt}:22-25'] = np.where((df_base_class_cmt[cls_cnt] >= 22) & (df_base_class_cmt[cls_cnt] <= 25), 1, 0)\n",
    "  df_base_class_cmt = df_base_class_cmt.drop(columns=[cls_cnt])\n",
    "  \n",
    "  df_base_class_amt[f'{cls_amt}:missing'] = np.where((df_base_class_amt[cls_amt].isnull()), 1, 0)\n",
    "  df_base_class_amt[f'{cls_amt}:0-3249'] = np.where((df_base_class_amt[cls_amt] >= 0) & (df_base_class_amt[cls_amt] <= 3249), 1, 0)\n",
    "  df_base_class_amt[f'{cls_amt}:3249-12413'] = np.where((df_base_class_amt[cls_amt] >= 3249) & (df_base_class_amt[cls_amt] <= 12413), 1, 0)\n",
    "  df_base_class_amt[f'{cls_amt}:12413-23746'] = np.where((df_base_class_amt[cls_amt] >= 12413) & (df_base_class_amt[cls_amt] <= 23746), 1, 0)\n",
    "  df_base_class_amt[f'{cls_amt}:23746-39755'] = np.where((df_base_class_amt[cls_amt] >= 23746) & (df_base_class_amt[cls_amt] <= 39755), 1, 0)\n",
    "  df_base_class_amt[f'{cls_amt}:39755-64963'] = np.where((df_base_class_amt[cls_amt] >= 39755) & (df_base_class_amt[cls_amt] <= 64963), 1, 0)\n",
    "  df_base_class_amt[f'{cls_amt}:64963-114201'] = np.where((df_base_class_amt[cls_amt] >= 64963) & (df_base_class_amt[cls_amt] <= 114201), 1, 0)\n",
    "  df_base_class_amt[f'{cls_amt}:114201-992476'] = np.where((df_base_class_amt[cls_amt] >= 114201) & (df_base_class_amt[cls_amt] <= 992476), 1, 0)\n",
    "  df_base_class_amt = df_base_class_amt.drop(columns=[cls_amt])\n",
    "  \n",
    "  df_base_class_max[f'{cls_max}:missing'] = np.where((df_base_class_max[cls_max].isnull()), 1, 0)\n",
    "  df_base_class_max[f'{cls_max}:0-1'] = np.where((df_base_class_max[cls_max] >= 0) & (df_base_class_max[cls_max] <= 1), 1, 0)\n",
    "  df_base_class_max[f'{cls_max}:1-2'] = np.where((df_base_class_max[cls_max] >= 1) & (df_base_class_max[cls_max] <= 2), 1, 0)\n",
    "  df_base_class_max[f'{cls_max}:2-4'] = np.where((df_base_class_max[cls_max] >= 2) & (df_base_class_max[cls_max] <= 4), 1, 0)\n",
    "  df_base_class_max[f'{cls_max}:4-11'] = np.where((df_base_class_max[cls_max] >= 4) & (df_base_class_max[cls_max] <= 11), 1, 0)\n",
    "  df_base_class_max[f'{cls_max}:11-4430'] = np.where((df_base_class_max[cls_max] >= 11) & (df_base_class_max[cls_max] <= 4430), 1, 0)\n",
    "  df_base_class_max = df_base_class_max.drop(columns=[cls_max])\n",
    "\n",
    "  df = df_base.merge(df_base_class_cmt, on='case_id', how='left')\\\n",
    "               .merge(df_base_class_amt, on='case_id', how='left')\\\n",
    "               .merge(df_base_class_max, on='case_id', how='left')\n",
    "  \n",
    "  # Resolvindo missing values\n",
    "  missing_cols = [f'{cls_cnt}:missing', f'{cls_amt}:missing', f'{cls_max}:missing']\n",
    "\n",
    "  for col in missing_cols:\n",
    "    df[col] = np.where((df[col].isnull()), 1, 0)\n",
    "\n",
    "  df = df.fillna(0)\n",
    "\n",
    "  if stage == 'train':\n",
    "    df_target = df[['target']].copy()\n",
    "    df = df.drop(columns=['case_id', 'target'])\n",
    "    df_target.to_csv(f\"data/{stage}_target.csv\", index=False)\n",
    "    df.to_csv(f\"data/{stage}_features.csv\", index=False)\n",
    "  else:\n",
    "    df.to_csv(f\"data/{stage}_features.csv\", index=False)\n"
   ]
  },
  {
   "cell_type": "markdown",
   "id": "2132ef0c",
   "metadata": {},
   "source": [
    "# PD Loginst Regression"
   ]
  },
  {
   "cell_type": "code",
   "execution_count": null,
   "id": "0c7a0a90",
   "metadata": {},
   "outputs": [],
   "source": [
    "reg = LogisticRegression()\n",
    "pd.options.display.max_columns = 100\n",
    "\n",
    "target = pd.read_csv(f\"data/train_target.csv\")\n",
    "features = pd.read_csv(f\"data/train_features.csv\")\n",
    "\n",
    "reg.fit(features, target)\n"
   ]
  },
  {
   "cell_type": "code",
   "execution_count": null,
   "id": "1aa8b934",
   "metadata": {},
   "outputs": [],
   "source": [
    "features_names = features.columns.values\n",
    "summary_table = pd.DataFrame(columns=['Feature name'], data=features_names)\n",
    "summary_table['coef'] = np.transpose(reg.coef_)\n",
    "summary_table.index = summary_table.index + 1\n",
    "summary_table.loc[0] = ['Intercept', reg.intercept_[0]]\n",
    "summary_table = summary_table.sort_index()\n",
    "\n",
    "summary_table"
   ]
  }
 ],
 "metadata": {
  "kernelspec": {
   "display_name": ".venv",
   "language": "python",
   "name": "python3"
  },
  "language_info": {
   "codemirror_mode": {
    "name": "ipython",
    "version": 3
   },
   "file_extension": ".py",
   "mimetype": "text/x-python",
   "name": "python",
   "nbconvert_exporter": "python",
   "pygments_lexer": "ipython3",
   "version": "3.13.5"
  }
 },
 "nbformat": 4,
 "nbformat_minor": 5
}
